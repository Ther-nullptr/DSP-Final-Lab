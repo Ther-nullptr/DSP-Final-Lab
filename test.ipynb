{
 "cells": [
  {
   "cell_type": "code",
   "execution_count": 1,
   "metadata": {},
   "outputs": [],
   "source": [
    "import pandas as pd\n",
    "import geopandas\n",
    "import matplotlib.pyplot as plt"
   ]
  },
  {
   "cell_type": "code",
   "execution_count": 2,
   "metadata": {},
   "outputs": [],
   "source": [
    "df = pd.DataFrame(\n",
    "    {'City': ['Buenos Aires', 'Brasilia', 'Santiago', 'Bogota', 'Caracas'],\n",
    "     'Country': ['Argentina', 'Brazil', 'Chile', 'Colombia', 'Venezuela'],\n",
    "     'Latitude': [-34.58, -15.78, -33.45, 4.60, 10.48],\n",
    "     'Longitude': [-58.66, -47.91, -70.66, -74.08, -66.86]})"
   ]
  },
  {
   "cell_type": "code",
   "execution_count": 3,
   "metadata": {},
   "outputs": [],
   "source": [
    "gdf = geopandas.GeoDataFrame(\n",
    "    df, geometry=geopandas.points_from_xy(df.Longitude, df.Latitude))"
   ]
  },
  {
   "cell_type": "code",
   "execution_count": 4,
   "metadata": {},
   "outputs": [
    {
     "name": "stdout",
     "output_type": "stream",
     "text": [
      "           City    Country  Latitude  Longitude                     geometry\n",
      "0  Buenos Aires  Argentina    -34.58     -58.66  POINT (-58.66000 -34.58000)\n",
      "1      Brasilia     Brazil    -15.78     -47.91  POINT (-47.91000 -15.78000)\n",
      "2      Santiago      Chile    -33.45     -70.66  POINT (-70.66000 -33.45000)\n",
      "3        Bogota   Colombia      4.60     -74.08    POINT (-74.08000 4.60000)\n",
      "4       Caracas  Venezuela     10.48     -66.86   POINT (-66.86000 10.48000)\n"
     ]
    }
   ],
   "source": [
    "print(gdf.head())"
   ]
  },
  {
   "cell_type": "code",
   "execution_count": 11,
   "metadata": {},
   "outputs": [
    {
     "data": {
      "image/png": "[encoded data removed]",
      "text/plain": [
       "<Figure size 432x288 with 1 Axes>"
      ]
     },
     "metadata": {
      "needs_background": "light"
     },
     "output_type": "display_data"
    }
   ],
   "source": [
    "world = geopandas.read_file(geopandas.datasets.get_path('naturalearth_lowres'))\n",
    "ax = world[world.name == 'United States of America'].plot(\n",
    "    color='white', edgecolor='black')\n",
    "\n",
    "# We can now plot our ``GeoDataFrame``.\n",
    "gdf.plot(ax=ax, color='red')\n",
    "\n",
    "plt.show()"
   ]
  },
  {
   "cell_type": "code",
   "execution_count": 12,
   "metadata": {},
   "outputs": [
    {
     "data": {
      "text/plain": [
       "['Fiji',\n",
       " 'Tanzania',\n",
       " 'W. Sahara',\n",
       " 'Canada',\n",
       " 'United States of America',\n",
       " 'Kazakhstan',\n",
       " 'Uzbekistan',\n",
       " 'Papua New Guinea',\n",
       " 'Indonesia',\n",
       " 'Argentina',\n",
       " 'Chile',\n",
       " 'Dem. Rep. Congo',\n",
       " 'Somalia',\n",
       " 'Kenya',\n",
       " 'Sudan',\n",
       " 'Chad',\n",
       " 'Haiti',\n",
       " 'Dominican Rep.',\n",
       " 'Russia',\n",
       " 'Bahamas',\n",
       " 'Falkland Is.',\n",
       " 'Norway',\n",
       " 'Greenland',\n",
       " 'Fr. S. Antarctic Lands',\n",
       " 'Timor-Leste',\n",
       " 'South Africa',\n",
       " 'Lesotho',\n",
       " 'Mexico',\n",
       " 'Uruguay',\n",
       " 'Brazil',\n",
       " 'Bolivia',\n",
       " 'Peru',\n",
       " 'Colombia',\n",
       " 'Panama',\n",
       " 'Costa Rica',\n",
       " 'Nicaragua',\n",
       " 'Honduras',\n",
       " 'El Salvador',\n",
       " 'Guatemala',\n",
       " 'Belize',\n",
       " 'Venezuela',\n",
       " 'Guyana',\n",
       " 'Suriname',\n",
       " 'France',\n",
       " 'Ecuador',\n",
       " 'Puerto Rico',\n",
       " 'Jamaica',\n",
       " 'Cuba',\n",
       " 'Zimbabwe',\n",
       " 'Botswana',\n",
       " 'Namibia',\n",
       " 'Senegal',\n",
       " 'Mali',\n",
       " 'Mauritania',\n",
       " 'Benin',\n",
       " 'Niger',\n",
       " 'Nigeria',\n",
       " 'Cameroon',\n",
       " 'Togo',\n",
       " 'Ghana',\n",
       " \"Côte d'Ivoire\",\n",
       " 'Guinea',\n",
       " 'Guinea-Bissau',\n",
       " 'Liberia',\n",
       " 'Sierra Leone',\n",
       " 'Burkina Faso',\n",
       " 'Central African Rep.',\n",
       " 'Congo',\n",
       " 'Gabon',\n",
       " 'Eq. Guinea',\n",
       " 'Zambia',\n",
       " 'Malawi',\n",
       " 'Mozambique',\n",
       " 'eSwatini',\n",
       " 'Angola',\n",
       " 'Burundi',\n",
       " 'Israel',\n",
       " 'Lebanon',\n",
       " 'Madagascar',\n",
       " 'Palestine',\n",
       " 'Gambia',\n",
       " 'Tunisia',\n",
       " 'Algeria',\n",
       " 'Jordan',\n",
       " 'United Arab Emirates',\n",
       " 'Qatar',\n",
       " 'Kuwait',\n",
       " 'Iraq',\n",
       " 'Oman',\n",
       " 'Vanuatu',\n",
       " 'Cambodia',\n",
       " 'Thailand',\n",
       " 'Laos',\n",
       " 'Myanmar',\n",
       " 'Vietnam',\n",
       " 'North Korea',\n",
       " 'South Korea',\n",
       " 'Mongolia',\n",
       " 'India',\n",
       " 'Bangladesh',\n",
       " 'Bhutan',\n",
       " 'Nepal',\n",
       " 'Pakistan',\n",
       " 'Afghanistan',\n",
       " 'Tajikistan',\n",
       " 'Kyrgyzstan',\n",
       " 'Turkmenistan',\n",
       " 'Iran',\n",
       " 'Syria',\n",
       " 'Armenia',\n",
       " 'Sweden',\n",
       " 'Belarus',\n",
       " 'Ukraine',\n",
       " 'Poland',\n",
       " 'Austria',\n",
       " 'Hungary',\n",
       " 'Moldova',\n",
       " 'Romania',\n",
       " 'Lithuania',\n",
       " 'Latvia',\n",
       " 'Estonia',\n",
       " 'Germany',\n",
       " 'Bulgaria',\n",
       " 'Greece',\n",
       " 'Turkey',\n",
       " 'Albania',\n",
       " 'Croatia',\n",
       " 'Switzerland',\n",
       " 'Luxembourg',\n",
       " 'Belgium',\n",
       " 'Netherlands',\n",
       " 'Portugal',\n",
       " 'Spain',\n",
       " 'Ireland',\n",
       " 'New Caledonia',\n",
       " 'Solomon Is.',\n",
       " 'New Zealand',\n",
       " 'Australia',\n",
       " 'Sri Lanka',\n",
       " 'China',\n",
       " 'Taiwan',\n",
       " 'Italy',\n",
       " 'Denmark',\n",
       " 'United Kingdom',\n",
       " 'Iceland',\n",
       " 'Azerbaijan',\n",
       " 'Georgia',\n",
       " 'Philippines',\n",
       " 'Malaysia',\n",
       " 'Brunei',\n",
       " 'Slovenia',\n",
       " 'Finland',\n",
       " 'Slovakia',\n",
       " 'Czechia',\n",
       " 'Eritrea',\n",
       " 'Japan',\n",
       " 'Paraguay',\n",
       " 'Yemen',\n",
       " 'Saudi Arabia',\n",
       " 'Antarctica',\n",
       " 'N. Cyprus',\n",
       " 'Cyprus',\n",
       " 'Morocco',\n",
       " 'Egypt',\n",
       " 'Libya',\n",
       " 'Ethiopia',\n",
       " 'Djibouti',\n",
       " 'Somaliland',\n",
       " 'Uganda',\n",
       " 'Rwanda',\n",
       " 'Bosnia and Herz.',\n",
       " 'North Macedonia',\n",
       " 'Serbia',\n",
       " 'Montenegro',\n",
       " 'Kosovo',\n",
       " 'Trinidad and Tobago',\n",
       " 'S. Sudan']"
      ]
     },
     "execution_count": 12,
     "metadata": {},
     "output_type": "execute_result"
    }
   ],
   "source": [
    "world.name.to_list()"
   ]
  }
 ],
 "metadata": {
  "kernelspec": {
   "display_name": "Python 3.6.9 64-bit",
   "language": "python",
   "name": "python3"
  },
  "language_info": {
   "codemirror_mode": {
    "name": "ipython",
    "version": 3
   },
   "file_extension": ".py",
   "mimetype": "text/x-python",
   "name": "python",
   "nbconvert_exporter": "python",
   "pygments_lexer": "ipython3",
   "version": "3.8.10"
  },
  "orig_nbformat": 4,
  "vscode": {
   "interpreter": {
    "hash": "31f2aee4e71d21fbe5cf8b01ff0e069b9275f58929596ceb00d14d90e3e16cd6"
   }
  }
 },
 "nbformat": 4,
 "nbformat_minor": 2
}
